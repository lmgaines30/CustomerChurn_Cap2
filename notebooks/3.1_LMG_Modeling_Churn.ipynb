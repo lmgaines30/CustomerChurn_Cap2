{
 "cells": [
  {
   "cell_type": "code",
   "execution_count": 1,
   "metadata": {},
   "outputs": [],
   "source": [
    "# import standard packages\n",
    "import pandas as pd\n",
    "import numpy as np\n",
    "\n",
    "import seaborn as sns\n",
    "import matplotlib.pyplot as plt\n",
    "%matplotlib inline\n",
    "\n",
    "#import sklearn pipeline & preprocessing packages\n",
    "from sklearn.pipeline import Pipeline, make_pipeline\n",
    "from sklearn import preprocessing\n",
    "from sklearn.model_selection import cross_val_score, StratifiedKFold, train_test_split, GridSearchCV\n",
    "from sklearn.preprocessing import StandardScaler, MinMaxScaler\n",
    "\n",
    "#import imblearn packages for imbalanced data\n",
    "from imblearn.over_sampling import RandomOverSampler, SMOTE, ADASYN\n",
    "from imblearn.combine import SMOTETomek\n",
    "\n",
    "#import sklearn models\n",
    "from sklearn.linear_model import LogisticRegression\n",
    "from sklearn.ensemble import RandomForestClassifier, GradientBoostingClassifier\n",
    "from sklearn.neighbors import KNeighborsClassifier\n",
    "\n",
    "\n",
    "#import sklearn metrics \n",
    "from sklearn.metrics import classification_report, confusion_matrix, roc_curve, auc \n",
    "\n",
    "import warnings\n",
    "warnings.simplefilter('ignore')\n"
   ]
  },
  {
   "cell_type": "code",
   "execution_count": 2,
   "metadata": {},
   "outputs": [
    {
     "data": {
      "text/html": [
       "<div>\n",
       "<style scoped>\n",
       "    .dataframe tbody tr th:only-of-type {\n",
       "        vertical-align: middle;\n",
       "    }\n",
       "\n",
       "    .dataframe tbody tr th {\n",
       "        vertical-align: top;\n",
       "    }\n",
       "\n",
       "    .dataframe thead th {\n",
       "        text-align: right;\n",
       "    }\n",
       "</style>\n",
       "<table border=\"1\" class=\"dataframe\">\n",
       "  <thead>\n",
       "    <tr style=\"text-align: right;\">\n",
       "      <th></th>\n",
       "      <th>tenure</th>\n",
       "      <th>MonthlyCharges</th>\n",
       "      <th>TotalCharges</th>\n",
       "      <th>Churn</th>\n",
       "      <th>gender_Female</th>\n",
       "      <th>gender_Male</th>\n",
       "      <th>Partner_No</th>\n",
       "      <th>Partner_Yes</th>\n",
       "      <th>Dependents_No</th>\n",
       "      <th>Dependents_Yes</th>\n",
       "      <th>...</th>\n",
       "      <th>PaymentMethod_Credit card (automatic)</th>\n",
       "      <th>PaymentMethod_Electronic check</th>\n",
       "      <th>PaymentMethod_Mailed check</th>\n",
       "      <th>tenureGroups_1 - 12</th>\n",
       "      <th>tenureGroups_13 - 24</th>\n",
       "      <th>tenureGroups_25 - 36</th>\n",
       "      <th>tenureGroups_37 - 48</th>\n",
       "      <th>tenureGroups_49 - 60</th>\n",
       "      <th>tenureGroups_61 - 72</th>\n",
       "      <th>tenureGroups_&gt; 72</th>\n",
       "    </tr>\n",
       "    <tr>\n",
       "      <th>SeniorCitizen</th>\n",
       "      <th></th>\n",
       "      <th></th>\n",
       "      <th></th>\n",
       "      <th></th>\n",
       "      <th></th>\n",
       "      <th></th>\n",
       "      <th></th>\n",
       "      <th></th>\n",
       "      <th></th>\n",
       "      <th></th>\n",
       "      <th></th>\n",
       "      <th></th>\n",
       "      <th></th>\n",
       "      <th></th>\n",
       "      <th></th>\n",
       "      <th></th>\n",
       "      <th></th>\n",
       "      <th></th>\n",
       "      <th></th>\n",
       "      <th></th>\n",
       "      <th></th>\n",
       "    </tr>\n",
       "  </thead>\n",
       "  <tbody>\n",
       "    <tr>\n",
       "      <th>0</th>\n",
       "      <td>1</td>\n",
       "      <td>29.85</td>\n",
       "      <td>29.85</td>\n",
       "      <td>0</td>\n",
       "      <td>1</td>\n",
       "      <td>0</td>\n",
       "      <td>0</td>\n",
       "      <td>1</td>\n",
       "      <td>1</td>\n",
       "      <td>0</td>\n",
       "      <td>...</td>\n",
       "      <td>0</td>\n",
       "      <td>1</td>\n",
       "      <td>0</td>\n",
       "      <td>1</td>\n",
       "      <td>0</td>\n",
       "      <td>0</td>\n",
       "      <td>0</td>\n",
       "      <td>0</td>\n",
       "      <td>0</td>\n",
       "      <td>0</td>\n",
       "    </tr>\n",
       "    <tr>\n",
       "      <th>0</th>\n",
       "      <td>34</td>\n",
       "      <td>56.95</td>\n",
       "      <td>1889.50</td>\n",
       "      <td>0</td>\n",
       "      <td>0</td>\n",
       "      <td>1</td>\n",
       "      <td>1</td>\n",
       "      <td>0</td>\n",
       "      <td>1</td>\n",
       "      <td>0</td>\n",
       "      <td>...</td>\n",
       "      <td>0</td>\n",
       "      <td>0</td>\n",
       "      <td>1</td>\n",
       "      <td>0</td>\n",
       "      <td>0</td>\n",
       "      <td>1</td>\n",
       "      <td>0</td>\n",
       "      <td>0</td>\n",
       "      <td>0</td>\n",
       "      <td>0</td>\n",
       "    </tr>\n",
       "    <tr>\n",
       "      <th>0</th>\n",
       "      <td>2</td>\n",
       "      <td>53.85</td>\n",
       "      <td>108.15</td>\n",
       "      <td>1</td>\n",
       "      <td>0</td>\n",
       "      <td>1</td>\n",
       "      <td>1</td>\n",
       "      <td>0</td>\n",
       "      <td>1</td>\n",
       "      <td>0</td>\n",
       "      <td>...</td>\n",
       "      <td>0</td>\n",
       "      <td>0</td>\n",
       "      <td>1</td>\n",
       "      <td>1</td>\n",
       "      <td>0</td>\n",
       "      <td>0</td>\n",
       "      <td>0</td>\n",
       "      <td>0</td>\n",
       "      <td>0</td>\n",
       "      <td>0</td>\n",
       "    </tr>\n",
       "    <tr>\n",
       "      <th>0</th>\n",
       "      <td>45</td>\n",
       "      <td>42.30</td>\n",
       "      <td>1840.75</td>\n",
       "      <td>0</td>\n",
       "      <td>0</td>\n",
       "      <td>1</td>\n",
       "      <td>1</td>\n",
       "      <td>0</td>\n",
       "      <td>1</td>\n",
       "      <td>0</td>\n",
       "      <td>...</td>\n",
       "      <td>0</td>\n",
       "      <td>0</td>\n",
       "      <td>0</td>\n",
       "      <td>0</td>\n",
       "      <td>0</td>\n",
       "      <td>0</td>\n",
       "      <td>1</td>\n",
       "      <td>0</td>\n",
       "      <td>0</td>\n",
       "      <td>0</td>\n",
       "    </tr>\n",
       "    <tr>\n",
       "      <th>0</th>\n",
       "      <td>2</td>\n",
       "      <td>70.70</td>\n",
       "      <td>151.65</td>\n",
       "      <td>1</td>\n",
       "      <td>1</td>\n",
       "      <td>0</td>\n",
       "      <td>1</td>\n",
       "      <td>0</td>\n",
       "      <td>1</td>\n",
       "      <td>0</td>\n",
       "      <td>...</td>\n",
       "      <td>0</td>\n",
       "      <td>1</td>\n",
       "      <td>0</td>\n",
       "      <td>1</td>\n",
       "      <td>0</td>\n",
       "      <td>0</td>\n",
       "      <td>0</td>\n",
       "      <td>0</td>\n",
       "      <td>0</td>\n",
       "      <td>0</td>\n",
       "    </tr>\n",
       "  </tbody>\n",
       "</table>\n",
       "<p>5 rows × 52 columns</p>\n",
       "</div>"
      ],
      "text/plain": [
       "               tenure  MonthlyCharges  TotalCharges  Churn  gender_Female  \\\n",
       "SeniorCitizen                                                               \n",
       "0                   1           29.85         29.85      0              1   \n",
       "0                  34           56.95       1889.50      0              0   \n",
       "0                   2           53.85        108.15      1              0   \n",
       "0                  45           42.30       1840.75      0              0   \n",
       "0                   2           70.70        151.65      1              1   \n",
       "\n",
       "               gender_Male  Partner_No  Partner_Yes  Dependents_No  \\\n",
       "SeniorCitizen                                                        \n",
       "0                        0           0            1              1   \n",
       "0                        1           1            0              1   \n",
       "0                        1           1            0              1   \n",
       "0                        1           1            0              1   \n",
       "0                        0           1            0              1   \n",
       "\n",
       "               Dependents_Yes  ...  PaymentMethod_Credit card (automatic)  \\\n",
       "SeniorCitizen                  ...                                          \n",
       "0                           0  ...                                      0   \n",
       "0                           0  ...                                      0   \n",
       "0                           0  ...                                      0   \n",
       "0                           0  ...                                      0   \n",
       "0                           0  ...                                      0   \n",
       "\n",
       "               PaymentMethod_Electronic check  PaymentMethod_Mailed check  \\\n",
       "SeniorCitizen                                                               \n",
       "0                                           1                           0   \n",
       "0                                           0                           1   \n",
       "0                                           0                           1   \n",
       "0                                           0                           0   \n",
       "0                                           1                           0   \n",
       "\n",
       "               tenureGroups_1 - 12  tenureGroups_13 - 24  \\\n",
       "SeniorCitizen                                              \n",
       "0                                1                     0   \n",
       "0                                0                     0   \n",
       "0                                1                     0   \n",
       "0                                0                     0   \n",
       "0                                1                     0   \n",
       "\n",
       "               tenureGroups_25 - 36  tenureGroups_37 - 48  \\\n",
       "SeniorCitizen                                               \n",
       "0                                 0                     0   \n",
       "0                                 1                     0   \n",
       "0                                 0                     0   \n",
       "0                                 0                     1   \n",
       "0                                 0                     0   \n",
       "\n",
       "               tenureGroups_49 - 60  tenureGroups_61 - 72  tenureGroups_> 72  \n",
       "SeniorCitizen                                                                 \n",
       "0                                 0                     0                  0  \n",
       "0                                 0                     0                  0  \n",
       "0                                 0                     0                  0  \n",
       "0                                 0                     0                  0  \n",
       "0                                 0                     0                  0  \n",
       "\n",
       "[5 rows x 52 columns]"
      ]
     },
     "execution_count": 2,
     "metadata": {},
     "output_type": "execute_result"
    }
   ],
   "source": [
    "#import data set\n",
    "filepath = \"C:/Users/lasha/repositories/CustomerChurn_Cap2/data/interim/ready_for_modelling_Telco_Customer_Churn.csv\"\n",
    "churn_df = pd.read_csv(filepath, index_col = 0, usecols=range(1,54))\n",
    "churn_df.head()"
   ]
  },
  {
   "cell_type": "code",
   "execution_count": 3,
   "metadata": {},
   "outputs": [
    {
     "name": "stdout",
     "output_type": "stream",
     "text": [
      "(7032, 51) (7032,)\n"
     ]
    }
   ],
   "source": [
    "#split into train and test sets\n",
    "X = churn_df.drop(columns=['Churn'])\n",
    "y = churn_df['Churn']\n",
    "\n",
    "print(X.shape, y.shape)\n",
    "# split the data. I'm using random state = 30 for reproducability\n",
    "X_train, X_test, y_train, y_test = train_test_split(X,y,test_size=0.2, stratify=y, random_state=30)\n"
   ]
  },
  {
   "cell_type": "code",
   "execution_count": 4,
   "metadata": {},
   "outputs": [
    {
     "name": "stdout",
     "output_type": "stream",
     "text": [
      "Index(['tenure', 'MonthlyCharges', 'TotalCharges', 'gender_Female',\n",
      "       'gender_Male', 'Partner_No', 'Partner_Yes', 'Dependents_No',\n",
      "       'Dependents_Yes', 'PhoneService_No', 'PhoneService_Yes',\n",
      "       'MultipleLines_No', 'MultipleLines_No phone service',\n",
      "       'MultipleLines_Yes', 'InternetService_DSL',\n",
      "       'InternetService_Fiber optic', 'InternetService_No',\n",
      "       'OnlineSecurity_No', 'OnlineSecurity_No internet service',\n",
      "       'OnlineSecurity_Yes', 'OnlineBackup_No',\n",
      "       'OnlineBackup_No internet service', 'OnlineBackup_Yes',\n",
      "       'DeviceProtection_No', 'DeviceProtection_No internet service',\n",
      "       'DeviceProtection_Yes', 'TechSupport_No',\n",
      "       'TechSupport_No internet service', 'TechSupport_Yes', 'StreamingTV_No',\n",
      "       'StreamingTV_No internet service', 'StreamingTV_Yes',\n",
      "       'StreamingMovies_No', 'StreamingMovies_No internet service',\n",
      "       'StreamingMovies_Yes', 'Contract_Month-to-month', 'Contract_One year',\n",
      "       'Contract_Two year', 'PaperlessBilling_No', 'PaperlessBilling_Yes',\n",
      "       'PaymentMethod_Bank transfer (automatic)',\n",
      "       'PaymentMethod_Credit card (automatic)',\n",
      "       'PaymentMethod_Electronic check', 'PaymentMethod_Mailed check',\n",
      "       'tenureGroups_1 - 12', 'tenureGroups_13 - 24', 'tenureGroups_25 - 36',\n",
      "       'tenureGroups_37 - 48', 'tenureGroups_49 - 60', 'tenureGroups_61 - 72',\n",
      "       'tenureGroups_> 72'],\n",
      "      dtype='object')\n"
     ]
    }
   ],
   "source": [
    "column_names = X_train.columns\n",
    "print(column_names)"
   ]
  },
  {
   "cell_type": "code",
   "execution_count": 5,
   "metadata": {},
   "outputs": [
    {
     "data": {
      "text/html": [
       "<div>\n",
       "<style scoped>\n",
       "    .dataframe tbody tr th:only-of-type {\n",
       "        vertical-align: middle;\n",
       "    }\n",
       "\n",
       "    .dataframe tbody tr th {\n",
       "        vertical-align: top;\n",
       "    }\n",
       "\n",
       "    .dataframe thead th {\n",
       "        text-align: right;\n",
       "    }\n",
       "</style>\n",
       "<table border=\"1\" class=\"dataframe\">\n",
       "  <thead>\n",
       "    <tr style=\"text-align: right;\">\n",
       "      <th></th>\n",
       "      <th>tenure</th>\n",
       "      <th>MonthlyCharges</th>\n",
       "      <th>TotalCharges</th>\n",
       "      <th>gender_Female</th>\n",
       "      <th>gender_Male</th>\n",
       "      <th>Partner_No</th>\n",
       "      <th>Partner_Yes</th>\n",
       "      <th>Dependents_No</th>\n",
       "      <th>Dependents_Yes</th>\n",
       "      <th>PhoneService_No</th>\n",
       "      <th>...</th>\n",
       "      <th>PaymentMethod_Credit card (automatic)</th>\n",
       "      <th>PaymentMethod_Electronic check</th>\n",
       "      <th>PaymentMethod_Mailed check</th>\n",
       "      <th>tenureGroups_1 - 12</th>\n",
       "      <th>tenureGroups_13 - 24</th>\n",
       "      <th>tenureGroups_25 - 36</th>\n",
       "      <th>tenureGroups_37 - 48</th>\n",
       "      <th>tenureGroups_49 - 60</th>\n",
       "      <th>tenureGroups_61 - 72</th>\n",
       "      <th>tenureGroups_&gt; 72</th>\n",
       "    </tr>\n",
       "  </thead>\n",
       "  <tbody>\n",
       "    <tr>\n",
       "      <th>count</th>\n",
       "      <td>5625.000</td>\n",
       "      <td>5625.000</td>\n",
       "      <td>5625.000</td>\n",
       "      <td>5625.000</td>\n",
       "      <td>5625.000</td>\n",
       "      <td>5625.000</td>\n",
       "      <td>5625.000</td>\n",
       "      <td>5625.000</td>\n",
       "      <td>5625.000</td>\n",
       "      <td>5625.000</td>\n",
       "      <td>...</td>\n",
       "      <td>5625.000</td>\n",
       "      <td>5625.000</td>\n",
       "      <td>5625.000</td>\n",
       "      <td>5625.000</td>\n",
       "      <td>5625.000</td>\n",
       "      <td>5625.000</td>\n",
       "      <td>5625.000</td>\n",
       "      <td>5625.000</td>\n",
       "      <td>5625.000</td>\n",
       "      <td>5625.000</td>\n",
       "    </tr>\n",
       "    <tr>\n",
       "      <th>mean</th>\n",
       "      <td>0.000</td>\n",
       "      <td>0.000</td>\n",
       "      <td>0.000</td>\n",
       "      <td>-0.000</td>\n",
       "      <td>-0.000</td>\n",
       "      <td>-0.000</td>\n",
       "      <td>0.000</td>\n",
       "      <td>0.000</td>\n",
       "      <td>-0.000</td>\n",
       "      <td>0.000</td>\n",
       "      <td>...</td>\n",
       "      <td>0.000</td>\n",
       "      <td>0.000</td>\n",
       "      <td>-0.000</td>\n",
       "      <td>0.000</td>\n",
       "      <td>-0.000</td>\n",
       "      <td>-0.000</td>\n",
       "      <td>-0.000</td>\n",
       "      <td>0.000</td>\n",
       "      <td>-0.000</td>\n",
       "      <td>0.000</td>\n",
       "    </tr>\n",
       "    <tr>\n",
       "      <th>std</th>\n",
       "      <td>1.000</td>\n",
       "      <td>1.000</td>\n",
       "      <td>1.000</td>\n",
       "      <td>1.000</td>\n",
       "      <td>1.000</td>\n",
       "      <td>1.000</td>\n",
       "      <td>1.000</td>\n",
       "      <td>1.000</td>\n",
       "      <td>1.000</td>\n",
       "      <td>1.000</td>\n",
       "      <td>...</td>\n",
       "      <td>1.000</td>\n",
       "      <td>1.000</td>\n",
       "      <td>1.000</td>\n",
       "      <td>1.000</td>\n",
       "      <td>1.000</td>\n",
       "      <td>1.000</td>\n",
       "      <td>1.000</td>\n",
       "      <td>1.000</td>\n",
       "      <td>1.000</td>\n",
       "      <td>1.000</td>\n",
       "    </tr>\n",
       "    <tr>\n",
       "      <th>min</th>\n",
       "      <td>-1.274</td>\n",
       "      <td>-1.549</td>\n",
       "      <td>-0.996</td>\n",
       "      <td>-0.987</td>\n",
       "      <td>-1.013</td>\n",
       "      <td>-1.039</td>\n",
       "      <td>-0.962</td>\n",
       "      <td>-1.542</td>\n",
       "      <td>-0.649</td>\n",
       "      <td>-0.326</td>\n",
       "      <td>...</td>\n",
       "      <td>-0.525</td>\n",
       "      <td>-0.705</td>\n",
       "      <td>-0.547</td>\n",
       "      <td>-0.648</td>\n",
       "      <td>-0.419</td>\n",
       "      <td>-0.375</td>\n",
       "      <td>-0.342</td>\n",
       "      <td>-0.362</td>\n",
       "      <td>-0.437</td>\n",
       "      <td>-0.230</td>\n",
       "    </tr>\n",
       "    <tr>\n",
       "      <th>25%</th>\n",
       "      <td>-0.949</td>\n",
       "      <td>-0.974</td>\n",
       "      <td>-0.827</td>\n",
       "      <td>-0.987</td>\n",
       "      <td>-1.013</td>\n",
       "      <td>-1.039</td>\n",
       "      <td>-0.962</td>\n",
       "      <td>-1.542</td>\n",
       "      <td>-0.649</td>\n",
       "      <td>-0.326</td>\n",
       "      <td>...</td>\n",
       "      <td>-0.525</td>\n",
       "      <td>-0.705</td>\n",
       "      <td>-0.547</td>\n",
       "      <td>-0.648</td>\n",
       "      <td>-0.419</td>\n",
       "      <td>-0.375</td>\n",
       "      <td>-0.342</td>\n",
       "      <td>-0.362</td>\n",
       "      <td>-0.437</td>\n",
       "      <td>-0.230</td>\n",
       "    </tr>\n",
       "    <tr>\n",
       "      <th>50%</th>\n",
       "      <td>-0.134</td>\n",
       "      <td>0.189</td>\n",
       "      <td>-0.392</td>\n",
       "      <td>-0.987</td>\n",
       "      <td>0.987</td>\n",
       "      <td>0.962</td>\n",
       "      <td>-0.962</td>\n",
       "      <td>0.649</td>\n",
       "      <td>-0.649</td>\n",
       "      <td>-0.326</td>\n",
       "      <td>...</td>\n",
       "      <td>-0.525</td>\n",
       "      <td>-0.705</td>\n",
       "      <td>-0.547</td>\n",
       "      <td>-0.648</td>\n",
       "      <td>-0.419</td>\n",
       "      <td>-0.375</td>\n",
       "      <td>-0.342</td>\n",
       "      <td>-0.362</td>\n",
       "      <td>-0.437</td>\n",
       "      <td>-0.230</td>\n",
       "    </tr>\n",
       "    <tr>\n",
       "      <th>75%</th>\n",
       "      <td>0.965</td>\n",
       "      <td>0.832</td>\n",
       "      <td>0.664</td>\n",
       "      <td>1.013</td>\n",
       "      <td>0.987</td>\n",
       "      <td>0.962</td>\n",
       "      <td>1.039</td>\n",
       "      <td>0.649</td>\n",
       "      <td>1.542</td>\n",
       "      <td>-0.326</td>\n",
       "      <td>...</td>\n",
       "      <td>-0.525</td>\n",
       "      <td>1.418</td>\n",
       "      <td>-0.547</td>\n",
       "      <td>1.543</td>\n",
       "      <td>-0.419</td>\n",
       "      <td>-0.375</td>\n",
       "      <td>-0.342</td>\n",
       "      <td>-0.362</td>\n",
       "      <td>-0.437</td>\n",
       "      <td>-0.230</td>\n",
       "    </tr>\n",
       "    <tr>\n",
       "      <th>max</th>\n",
       "      <td>1.616</td>\n",
       "      <td>1.790</td>\n",
       "      <td>2.830</td>\n",
       "      <td>1.013</td>\n",
       "      <td>0.987</td>\n",
       "      <td>0.962</td>\n",
       "      <td>1.039</td>\n",
       "      <td>0.649</td>\n",
       "      <td>1.542</td>\n",
       "      <td>3.072</td>\n",
       "      <td>...</td>\n",
       "      <td>1.903</td>\n",
       "      <td>1.418</td>\n",
       "      <td>1.829</td>\n",
       "      <td>1.543</td>\n",
       "      <td>2.385</td>\n",
       "      <td>2.663</td>\n",
       "      <td>2.921</td>\n",
       "      <td>2.764</td>\n",
       "      <td>2.288</td>\n",
       "      <td>4.353</td>\n",
       "    </tr>\n",
       "  </tbody>\n",
       "</table>\n",
       "<p>8 rows × 51 columns</p>\n",
       "</div>"
      ],
      "text/plain": [
       "         tenure  MonthlyCharges  TotalCharges  gender_Female  gender_Male  \\\n",
       "count  5625.000        5625.000      5625.000       5625.000     5625.000   \n",
       "mean      0.000           0.000         0.000         -0.000       -0.000   \n",
       "std       1.000           1.000         1.000          1.000        1.000   \n",
       "min      -1.274          -1.549        -0.996         -0.987       -1.013   \n",
       "25%      -0.949          -0.974        -0.827         -0.987       -1.013   \n",
       "50%      -0.134           0.189        -0.392         -0.987        0.987   \n",
       "75%       0.965           0.832         0.664          1.013        0.987   \n",
       "max       1.616           1.790         2.830          1.013        0.987   \n",
       "\n",
       "       Partner_No  Partner_Yes  Dependents_No  Dependents_Yes  \\\n",
       "count    5625.000     5625.000       5625.000        5625.000   \n",
       "mean       -0.000        0.000          0.000          -0.000   \n",
       "std         1.000        1.000          1.000           1.000   \n",
       "min        -1.039       -0.962         -1.542          -0.649   \n",
       "25%        -1.039       -0.962         -1.542          -0.649   \n",
       "50%         0.962       -0.962          0.649          -0.649   \n",
       "75%         0.962        1.039          0.649           1.542   \n",
       "max         0.962        1.039          0.649           1.542   \n",
       "\n",
       "       PhoneService_No  ...  PaymentMethod_Credit card (automatic)  \\\n",
       "count         5625.000  ...                               5625.000   \n",
       "mean             0.000  ...                                  0.000   \n",
       "std              1.000  ...                                  1.000   \n",
       "min             -0.326  ...                                 -0.525   \n",
       "25%             -0.326  ...                                 -0.525   \n",
       "50%             -0.326  ...                                 -0.525   \n",
       "75%             -0.326  ...                                 -0.525   \n",
       "max              3.072  ...                                  1.903   \n",
       "\n",
       "       PaymentMethod_Electronic check  PaymentMethod_Mailed check  \\\n",
       "count                        5625.000                    5625.000   \n",
       "mean                            0.000                      -0.000   \n",
       "std                             1.000                       1.000   \n",
       "min                            -0.705                      -0.547   \n",
       "25%                            -0.705                      -0.547   \n",
       "50%                            -0.705                      -0.547   \n",
       "75%                             1.418                      -0.547   \n",
       "max                             1.418                       1.829   \n",
       "\n",
       "       tenureGroups_1 - 12  tenureGroups_13 - 24  tenureGroups_25 - 36  \\\n",
       "count             5625.000              5625.000              5625.000   \n",
       "mean                 0.000                -0.000                -0.000   \n",
       "std                  1.000                 1.000                 1.000   \n",
       "min                 -0.648                -0.419                -0.375   \n",
       "25%                 -0.648                -0.419                -0.375   \n",
       "50%                 -0.648                -0.419                -0.375   \n",
       "75%                  1.543                -0.419                -0.375   \n",
       "max                  1.543                 2.385                 2.663   \n",
       "\n",
       "       tenureGroups_37 - 48  tenureGroups_49 - 60  tenureGroups_61 - 72  \\\n",
       "count              5625.000              5625.000              5625.000   \n",
       "mean                 -0.000                 0.000                -0.000   \n",
       "std                   1.000                 1.000                 1.000   \n",
       "min                  -0.342                -0.362                -0.437   \n",
       "25%                  -0.342                -0.362                -0.437   \n",
       "50%                  -0.342                -0.362                -0.437   \n",
       "75%                  -0.342                -0.362                -0.437   \n",
       "max                   2.921                 2.764                 2.288   \n",
       "\n",
       "       tenureGroups_> 72  \n",
       "count           5625.000  \n",
       "mean               0.000  \n",
       "std                1.000  \n",
       "min               -0.230  \n",
       "25%               -0.230  \n",
       "50%               -0.230  \n",
       "75%               -0.230  \n",
       "max                4.353  \n",
       "\n",
       "[8 rows x 51 columns]"
      ]
     },
     "execution_count": 5,
     "metadata": {},
     "output_type": "execute_result"
    }
   ],
   "source": [
    "# we need to scale the data\n",
    "# instantiate the standard scaler\n",
    "scaler = StandardScaler()\n",
    "#fit and transform the monthly charges\n",
    "X_train_scaled = scaler.fit_transform(X_train)\n",
    "\n",
    "#convert X_train array back into a dataframe\n",
    "X_train_scaled_df = pd.DataFrame(X_train_scaled, columns = column_names)\n",
    "\n",
    "#transform test data\n",
    "X_test_scaled = scaler.transform(X_test)\n",
    "#convert X_test array back into a dataframe\n",
    "X_test_scaled_df = pd.DataFrame(X_test_scaled, columns = column_names)\n",
    "\n",
    "# view train dataframe\n",
    "X_train_scaled_df.describe().round(3)"
   ]
  },
  {
   "cell_type": "code",
   "execution_count": 6,
   "metadata": {},
   "outputs": [
    {
     "data": {
      "text/plain": [
       "Churn\n",
       "0    5163\n",
       "1    1869\n",
       "Name: count, dtype: int64"
      ]
     },
     "execution_count": 6,
     "metadata": {},
     "output_type": "execute_result"
    }
   ],
   "source": [
    "#review the distribution of our target variable, Churn from our train dataset to test for imbalance\n",
    "# display the count of each class in the target column\n",
    "churn_df['Churn'].value_counts()"
   ]
  },
  {
   "cell_type": "code",
   "execution_count": 7,
   "metadata": {},
   "outputs": [
    {
     "data": {
      "image/png": "[encoded data removed]",
      "text/plain": [
       "<Figure size 1000x400 with 2 Axes>"
      ]
     },
     "metadata": {},
     "output_type": "display_data"
    }
   ],
   "source": [
    "#set up the subplots\n",
    "fig, axes = plt.subplots(nrows=1, ncols=2, figsize=(10,4))\n",
    "\n",
    "# pie chart for the class distribution\n",
    "pie_colors = ['skyblue', 'gold']\n",
    "axes[0].pie(churn_df['Churn'].value_counts(), labels=churn_df['Churn'].value_counts().index, autopct='%1.1f%%', startangle=90, colors=pie_colors)\n",
    "axes[0].set_title('Churn Distribution Before Resampling - Pie Chart')\n",
    "\n",
    "#count plot for class distribution\n",
    "countplot_colors = sns.color_palette(pie_colors)\n",
    "sns.countplot(x='Churn', data=churn_df, palette=countplot_colors, ax=axes[1], hue='Churn', legend=False)\n",
    "axes[1].set_title('Churn Distribution Before Resampling - Count Plot')\n",
    "\n",
    "#adjust layout\n",
    "plt.tight_layout()\n",
    "plt.show()"
   ]
  },
  {
   "cell_type": "markdown",
   "metadata": {},
   "source": [
    "Due to the imbalance within the Churn feature, I will try resampling data in an attempt to balance the target feature, Churn."
   ]
  },
  {
   "cell_type": "code",
   "execution_count": 8,
   "metadata": {},
   "outputs": [],
   "source": [
    "#create a function to plot the class distribution after resampling\n",
    "def plot_resampling_results(y_resampled, title):\n",
    "    plt.figure(figsize=(4,4))\n",
    "    pd.Series(y_resampled).value_counts().plot.pie(autopct='%1.1f%%', startangle=90, colors=pie_colors)\n",
    "    plt.title(title)\n",
    "    plt.show()"
   ]
  },
  {
   "cell_type": "code",
   "execution_count": 9,
   "metadata": {},
   "outputs": [
    {
     "data": {
      "image/png": "[encoded data removed]",
      "text/plain": [
       "<Figure size 400x400 with 1 Axes>"
      ]
     },
     "metadata": {},
     "output_type": "display_data"
    }
   ],
   "source": [
    "#Combine SMOTE and Tomek Links (note that this function applies SMOTE first and then Tomek Links)\n",
    "smote_tomek = SMOTETomek()\n",
    "X_train_st, y_train_st = smote_tomek.fit_resample(X_train,y_train)\n",
    "plot_resampling_results(y_train_st, 'Class Distribution After SMOTE oversampling + Tomek Links')"
   ]
  },
  {
   "cell_type": "code",
   "execution_count": 10,
   "metadata": {},
   "outputs": [
    {
     "data": {
      "text/plain": [
       "Churn\n",
       "1    3768\n",
       "0    3768\n",
       "Name: count, dtype: int64"
      ]
     },
     "execution_count": 10,
     "metadata": {},
     "output_type": "execute_result"
    }
   ],
   "source": [
    "#check the class distribution of target column after SMOTE oversampling + Tomek\n",
    "y_train_st.value_counts()"
   ]
  },
  {
   "cell_type": "code",
   "execution_count": 11,
   "metadata": {},
   "outputs": [
    {
     "name": "stdout",
     "output_type": "stream",
     "text": [
      "Number of records added to the minority class:  1911\n"
     ]
    }
   ],
   "source": [
    "#print the number of records added to the minority class\n",
    "print(\"Number of records added to the minority class: \",  y_train_st.shape[0] - y_train.shape[0])\n"
   ]
  },
  {
   "cell_type": "code",
   "execution_count": 12,
   "metadata": {},
   "outputs": [
    {
     "name": "stdout",
     "output_type": "stream",
     "text": [
      "(7536, 51) (7536,)\n"
     ]
    }
   ],
   "source": [
    "print(X_train_st.shape, y_train_st.shape)"
   ]
  },
  {
   "cell_type": "markdown",
   "metadata": {},
   "source": [
    "As this is a classification project, we will try the following models:  RandomForest, GradientBoosting, Logistic Regression and KNearestNeighbors.  \n",
    "\n",
    "Note that my training datasets for the records resampled through SMOTETomek are now X_train_st, y_train_st.\n",
    "\n",
    "The original X_test and y_test data has been unchanged."
   ]
  },
  {
   "cell_type": "markdown",
   "metadata": {},
   "source": [
    "## Logistic Regression Model\n",
    "\n"
   ]
  },
  {
   "cell_type": "code",
   "execution_count": 13,
   "metadata": {},
   "outputs": [],
   "source": [
    "#instantiate Logistic regression classifer\n",
    "lr = LogisticRegression()\n",
    "\n",
    "#create my param grid\n",
    "params_lr = {\n",
    "    'C': [0.001, 0.01, 0.1, 1, 10],\n",
    "    'solver': ['liblinear', 'lbfgs'],\n",
    "    'max_iter': [50, 100]}"
   ]
  },
  {
   "cell_type": "code",
   "execution_count": 14,
   "metadata": {},
   "outputs": [],
   "source": [
    "lr_grid = GridSearchCV(\n",
    "    estimator= lr,\n",
    "    param_grid = params_lr,\n",
    "    scoring = 'accuracy',\n",
    "    cv = 5,\n",
    "    refit=True,\n",
    "    return_train_score=True)"
   ]
  },
  {
   "cell_type": "code",
   "execution_count": 15,
   "metadata": {},
   "outputs": [],
   "source": [
    "# fit our data to lr model\n",
    "lr_grid.fit(X_train_st, y_train_st)\n",
    "\n",
    "#make predictions\n",
    "y_preds = lr_grid.predict(X_test)"
   ]
  },
  {
   "cell_type": "code",
   "execution_count": 16,
   "metadata": {},
   "outputs": [
    {
     "name": "stdout",
     "output_type": "stream",
     "text": [
      "The best parameters for logistic regression are:  {'C': 1, 'max_iter': 50, 'solver': 'liblinear'}\n",
      "Generating the best score:  0.8492739452845166\n"
     ]
    }
   ],
   "source": [
    "# look at the best parameters and the best score\n",
    "print(\"The best parameters for logistic regression are: \", lr_grid.best_params_)\n",
    "print(\"Generating the best score: \", lr_grid.best_score_)"
   ]
  },
  {
   "cell_type": "code",
   "execution_count": 17,
   "metadata": {},
   "outputs": [
    {
     "name": "stdout",
     "output_type": "stream",
     "text": [
      "[[912 121]\n",
      " [158 216]]\n"
     ]
    },
    {
     "data": {
      "image/png": "[encoded data removed]",
      "text/plain": [
       "<Figure size 640x480 with 2 Axes>"
      ]
     },
     "metadata": {},
     "output_type": "display_data"
    }
   ],
   "source": [
    "#plot confusion matrix for the logistic regression model\n",
    "import itertools\n",
    "classes = ['0 - Active', '1 - Churned']\n",
    "# Compute confusion matrix\n",
    "cnf_matrix = confusion_matrix(y_test, y_preds)\n",
    "print(cnf_matrix)\n",
    "\n",
    "# Plot confusion matrix\n",
    "plt.imshow(cnf_matrix, interpolation='nearest', cmap=plt.cm.Blues)\n",
    "plt.title('Confusion Matrix - Logistic Regression')\n",
    "plt.colorbar()\n",
    "tick_marks = np.arange(len(classes))\n",
    "plt.xticks(tick_marks, classes, rotation=45)\n",
    "plt.yticks(tick_marks, classes)\n",
    "fmt = 'd'\n",
    "thresh = cnf_matrix.max() / 2.\n",
    "for i, j in itertools.product(range(cnf_matrix.shape[0]), range(cnf_matrix.shape[1])):\n",
    "        plt.text(j, i, format(cnf_matrix[i, j], fmt),\n",
    "                 horizontalalignment=\"center\",\n",
    "                 color=\"white\" if cnf_matrix[i, j] > thresh else \"black\")\n",
    "\n",
    "plt.ylabel('True label')\n",
    "plt.xlabel('Predicted label')\n",
    "plt.tight_layout()\n",
    "\n"
   ]
  },
  {
   "cell_type": "code",
   "execution_count": 18,
   "metadata": {},
   "outputs": [
    {
     "name": "stdout",
     "output_type": "stream",
     "text": [
      "Classification Report for logistic regression model\n",
      "              precision    recall  f1-score   support\n",
      "\n",
      "           0       0.85      0.88      0.87      1033\n",
      "           1       0.64      0.58      0.61       374\n",
      "\n",
      "    accuracy                           0.80      1407\n",
      "   macro avg       0.75      0.73      0.74      1407\n",
      "weighted avg       0.80      0.80      0.80      1407\n",
      "\n"
     ]
    }
   ],
   "source": [
    "print(\"Classification Report for logistic regression model\")\n",
    "print(classification_report(y_test, y_preds))"
   ]
  },
  {
   "cell_type": "markdown",
   "metadata": {},
   "source": [
    "Although this model did pretty well at identifying our active customers, it is still very ambiguous around the potential churn customers.  It specifically missed 158 customers\n",
    "that churned, but were predicted to be active still. We will move on to Random Forest to see how it performs."
   ]
  },
  {
   "cell_type": "markdown",
   "metadata": {},
   "source": [
    "## Random Forest Model\n",
    "\n"
   ]
  },
  {
   "cell_type": "code",
   "execution_count": 19,
   "metadata": {},
   "outputs": [],
   "source": [
    "#instantiate random forest classifer\n",
    "rf = RandomForestClassifier()\n",
    "\n",
    "#create my param grid\n",
    "params_rf = {\n",
    "    'criterion': ['gini', 'entropy'],\n",
    "    'n_estimators': [50, 100, 200],\n",
    "    'max_depth': [5, 10, 15],\n",
    "    'min_samples_leaf': [1,2,5]}"
   ]
  },
  {
   "cell_type": "code",
   "execution_count": 20,
   "metadata": {},
   "outputs": [],
   "source": [
    "rf_grid = GridSearchCV(\n",
    "    estimator= rf,\n",
    "    param_grid = params_rf,\n",
    "    scoring = 'accuracy',\n",
    "    cv = 5,\n",
    "    refit=True,\n",
    "    return_train_score=True)"
   ]
  },
  {
   "cell_type": "code",
   "execution_count": 21,
   "metadata": {},
   "outputs": [],
   "source": [
    "# fit our data to rf model\n",
    "rf_grid.fit(X_train_st, y_train_st)\n",
    "\n",
    "#make predictions\n",
    "y_preds_rf = rf_grid.predict(X_test)"
   ]
  },
  {
   "cell_type": "code",
   "execution_count": 22,
   "metadata": {},
   "outputs": [
    {
     "name": "stdout",
     "output_type": "stream",
     "text": [
      "The best parameters for random forest are:  {'criterion': 'gini', 'max_depth': 15, 'min_samples_leaf': 1, 'n_estimators': 50}\n",
      "Generating the best score:  0.8674494269888179\n"
     ]
    }
   ],
   "source": [
    "# look at the best parameters and the best score\n",
    "print(\"The best parameters for random forest are: \", rf_grid.best_params_)\n",
    "print(\"Generating the best score: \", rf_grid.best_score_)"
   ]
  },
  {
   "cell_type": "code",
   "execution_count": 23,
   "metadata": {},
   "outputs": [
    {
     "name": "stdout",
     "output_type": "stream",
     "text": [
      "[[886 147]\n",
      " [158 216]]\n"
     ]
    },
    {
     "data": {
      "image/png": "[encoded data removed]",
      "text/plain": [
       "<Figure size 640x480 with 2 Axes>"
      ]
     },
     "metadata": {},
     "output_type": "display_data"
    }
   ],
   "source": [
    "#plot confusion matrix for the random forest model\n",
    "# Compute confusion matrix\n",
    "cnf_matrix = confusion_matrix(y_test, y_preds_rf)\n",
    "print(cnf_matrix)\n",
    "\n",
    "# Plot confusion matrix\n",
    "plt.imshow(cnf_matrix, interpolation='nearest', cmap=plt.cm.Blues)\n",
    "plt.title('Confusion Matrix - Random Forest')\n",
    "plt.colorbar()\n",
    "tick_marks = np.arange(len(classes))\n",
    "plt.xticks(tick_marks, classes, rotation=45)\n",
    "plt.yticks(tick_marks, classes)\n",
    "fmt = 'd'\n",
    "thresh = cnf_matrix.max() / 2.\n",
    "for i, j in itertools.product(range(cnf_matrix.shape[0]), range(cnf_matrix.shape[1])):\n",
    "        plt.text(j, i, format(cnf_matrix[i, j], fmt),\n",
    "                 horizontalalignment=\"center\",\n",
    "                 color=\"white\" if cnf_matrix[i, j] > thresh else \"black\")\n",
    "\n",
    "plt.ylabel('True label')\n",
    "plt.xlabel('Predicted label')\n",
    "plt.tight_layout()"
   ]
  },
  {
   "cell_type": "code",
   "execution_count": 24,
   "metadata": {},
   "outputs": [
    {
     "name": "stdout",
     "output_type": "stream",
     "text": [
      "Classification Report for random forest model\n",
      "              precision    recall  f1-score   support\n",
      "\n",
      "           0       0.85      0.86      0.85      1033\n",
      "           1       0.60      0.58      0.59       374\n",
      "\n",
      "    accuracy                           0.78      1407\n",
      "   macro avg       0.72      0.72      0.72      1407\n",
      "weighted avg       0.78      0.78      0.78      1407\n",
      "\n"
     ]
    }
   ],
   "source": [
    "print(\"Classification Report for random forest model\")\n",
    "print(classification_report(y_test, y_preds_rf))"
   ]
  },
  {
   "cell_type": "markdown",
   "metadata": {},
   "source": [
    "The random forest model's performance was only marginally lower than the logistic regression model.  Next, we will try the gradientboosting classification model."
   ]
  },
  {
   "cell_type": "markdown",
   "metadata": {},
   "source": [
    "## GradientBoosting Model\n",
    "\n"
   ]
  },
  {
   "cell_type": "code",
   "execution_count": 25,
   "metadata": {},
   "outputs": [],
   "source": [
    "#instantiate gradient boosting classifer\n",
    "gb = GradientBoostingClassifier()\n",
    "\n",
    "#create my param grid\n",
    "params_gb = {\n",
    "    'n_estimators': [25, 50, 100, 200],\n",
    "    'learning_rate': [0.01, 0.05, 0.1, 0.25, 0.5],\n",
    "    'max_features': [2,5,10,15]}"
   ]
  },
  {
   "cell_type": "code",
   "execution_count": 26,
   "metadata": {},
   "outputs": [],
   "source": [
    "gb_grid = GridSearchCV(\n",
    "    estimator= gb,\n",
    "    param_grid = params_gb,\n",
    "    scoring = 'accuracy',\n",
    "    cv = 5,\n",
    "    refit=True,\n",
    "    return_train_score=True)"
   ]
  },
  {
   "cell_type": "code",
   "execution_count": 27,
   "metadata": {},
   "outputs": [],
   "source": [
    "# fit our data to gb model\n",
    "gb_grid.fit(X_train_st, y_train_st)\n",
    "\n",
    "#make predictions\n",
    "y_preds_gb = gb_grid.predict(X_test)"
   ]
  },
  {
   "cell_type": "code",
   "execution_count": 28,
   "metadata": {},
   "outputs": [
    {
     "name": "stdout",
     "output_type": "stream",
     "text": [
      "The best parameters for gradient boosting are:  {'learning_rate': 0.1, 'max_features': 5, 'n_estimators': 200}\n",
      "Generating the best score:  0.858959251169168\n"
     ]
    }
   ],
   "source": [
    "# look at the best parameters and the best score\n",
    "print(\"The best parameters for gradient boosting are: \", gb_grid.best_params_)\n",
    "print(\"Generating the best score: \", gb_grid.best_score_)"
   ]
  },
  {
   "cell_type": "code",
   "execution_count": 29,
   "metadata": {},
   "outputs": [
    {
     "name": "stdout",
     "output_type": "stream",
     "text": [
      "[[893 140]\n",
      " [149 225]]\n"
     ]
    },
    {
     "data": {
      "image/png": "[encoded data removed]",
      "text/plain": [
       "<Figure size 640x480 with 2 Axes>"
      ]
     },
     "metadata": {},
     "output_type": "display_data"
    }
   ],
   "source": [
    "#plot confusion matrix for the gradient boosting model\n",
    "# Compute confusion matrix\n",
    "cnf_matrix = confusion_matrix(y_test, y_preds_gb)\n",
    "print(cnf_matrix)\n",
    "\n",
    "# Plot confusion matrix\n",
    "plt.imshow(cnf_matrix, interpolation='nearest', cmap=plt.cm.Blues)\n",
    "plt.title('Confusion Matrix - Gradient Boosting')\n",
    "plt.colorbar()\n",
    "tick_marks = np.arange(len(classes))\n",
    "plt.xticks(tick_marks, classes, rotation=45)\n",
    "plt.yticks(tick_marks, classes)\n",
    "fmt = 'd'\n",
    "thresh = cnf_matrix.max() / 2.\n",
    "for i, j in itertools.product(range(cnf_matrix.shape[0]), range(cnf_matrix.shape[1])):\n",
    "        plt.text(j, i, format(cnf_matrix[i, j], fmt),\n",
    "                 horizontalalignment=\"center\",\n",
    "                 color=\"white\" if cnf_matrix[i, j] > thresh else \"black\")\n",
    "\n",
    "plt.ylabel('True label')\n",
    "plt.xlabel('Predicted label')\n",
    "plt.tight_layout()"
   ]
  },
  {
   "cell_type": "code",
   "execution_count": 30,
   "metadata": {},
   "outputs": [
    {
     "name": "stdout",
     "output_type": "stream",
     "text": [
      "Classification Report for gradient boosting model\n",
      "              precision    recall  f1-score   support\n",
      "\n",
      "           0       0.86      0.86      0.86      1033\n",
      "           1       0.62      0.60      0.61       374\n",
      "\n",
      "    accuracy                           0.79      1407\n",
      "   macro avg       0.74      0.73      0.73      1407\n",
      "weighted avg       0.79      0.79      0.79      1407\n",
      "\n"
     ]
    }
   ],
   "source": [
    "print(\"Classification Report for gradient boosting model\")\n",
    "print(classification_report(y_test, y_preds_gb))"
   ]
  },
  {
   "cell_type": "markdown",
   "metadata": {},
   "source": [
    "After 3 models, it would still appear that the best is the logistic regression model.  It's score is inline with the rest, but is computationally less expensive than\n",
    "the other models.  We will try one more model, KNearestNeighbor."
   ]
  },
  {
   "cell_type": "markdown",
   "metadata": {},
   "source": [
    "## KNearest Neighbor Model\n",
    "\n"
   ]
  },
  {
   "cell_type": "code",
   "execution_count": 31,
   "metadata": {},
   "outputs": [],
   "source": [
    "#instantiate KNN classifer\n",
    "knn = KNeighborsClassifier()\n",
    "\n",
    "#create my param grid\n",
    "params_knn = {\n",
    "    'n_neighbors': [3, 5, 7, 11, 15, 27],\n",
    "    'weights': ['uniform', 'distance'],\n",
    "    'algorithm' : ['auto', 'ball_tree', 'kd_tree', 'brute']}\n"
   ]
  },
  {
   "cell_type": "code",
   "execution_count": 32,
   "metadata": {},
   "outputs": [],
   "source": [
    "knn_grid = GridSearchCV(\n",
    "    estimator= knn,\n",
    "    param_grid = params_knn,\n",
    "    scoring = 'accuracy',\n",
    "    cv = 5,\n",
    "    refit=True,\n",
    "    return_train_score=True)"
   ]
  },
  {
   "cell_type": "code",
   "execution_count": 33,
   "metadata": {},
   "outputs": [],
   "source": [
    "# fit our data to KNN model\n",
    "knn_grid.fit(X_train_st, y_train_st)\n",
    "\n",
    "#make predictions\n",
    "y_preds_knn = knn_grid.predict(X_test)"
   ]
  },
  {
   "cell_type": "code",
   "execution_count": 34,
   "metadata": {},
   "outputs": [
    {
     "name": "stdout",
     "output_type": "stream",
     "text": [
      "The best parameters for KNN are:  {'algorithm': 'auto', 'n_neighbors': 3, 'weights': 'distance'}\n",
      "Generating the best score:  0.8349286002193125\n"
     ]
    }
   ],
   "source": [
    "# look at the best parameters and the best score\n",
    "print(\"The best parameters for KNN are: \", knn_grid.best_params_)\n",
    "print(\"Generating the best score: \", knn_grid.best_score_)"
   ]
  },
  {
   "cell_type": "code",
   "execution_count": 35,
   "metadata": {},
   "outputs": [
    {
     "name": "stdout",
     "output_type": "stream",
     "text": [
      "[[745 288]\n",
      " [144 230]]\n"
     ]
    },
    {
     "data": {
      "image/png": "[encoded data removed]",
      "text/plain": [
       "<Figure size 640x480 with 2 Axes>"
      ]
     },
     "metadata": {},
     "output_type": "display_data"
    }
   ],
   "source": [
    "#plot confusion matrix for the KNN model\n",
    "# Compute confusion matrix\n",
    "cnf_matrix = confusion_matrix(y_test, y_preds_knn)\n",
    "print(cnf_matrix)\n",
    "\n",
    "# Plot confusion matrix\n",
    "plt.imshow(cnf_matrix, interpolation='nearest', cmap=plt.cm.Blues)\n",
    "plt.title('Confusion Matrix - KNN')\n",
    "plt.colorbar()\n",
    "tick_marks = np.arange(len(classes))\n",
    "plt.xticks(tick_marks, classes, rotation=45)\n",
    "plt.yticks(tick_marks, classes)\n",
    "fmt = 'd'\n",
    "thresh = cnf_matrix.max() / 2.\n",
    "for i, j in itertools.product(range(cnf_matrix.shape[0]), range(cnf_matrix.shape[1])):\n",
    "        plt.text(j, i, format(cnf_matrix[i, j], fmt),\n",
    "                 horizontalalignment=\"center\",\n",
    "                 color=\"white\" if cnf_matrix[i, j] > thresh else \"black\")\n",
    "\n",
    "plt.ylabel('True label')\n",
    "plt.xlabel('Predicted label')\n",
    "plt.tight_layout()"
   ]
  },
  {
   "cell_type": "code",
   "execution_count": 36,
   "metadata": {},
   "outputs": [
    {
     "name": "stdout",
     "output_type": "stream",
     "text": [
      "Classification Report for KNN model\n",
      "              precision    recall  f1-score   support\n",
      "\n",
      "           0       0.84      0.72      0.78      1033\n",
      "           1       0.44      0.61      0.52       374\n",
      "\n",
      "    accuracy                           0.69      1407\n",
      "   macro avg       0.64      0.67      0.65      1407\n",
      "weighted avg       0.73      0.69      0.71      1407\n",
      "\n"
     ]
    }
   ],
   "source": [
    "print(\"Classification Report for KNN model\")\n",
    "print(classification_report(y_test, y_preds_knn))"
   ]
  },
  {
   "cell_type": "markdown",
   "metadata": {},
   "source": [
    "Conclusion:  Out of the four models attempted, all of the scores were very similar.  However, the one that slightly edges out the rest is the logistic regression model, given that it\n",
    "is computationally less expensive than the other models.  However, I would most likely try additional preprocessing steps to see how they impact the model.  For example, trying the models leveraging a MinMaxScaler vs StandardScaler.  I would also potentially try running the models again, using a different resampling method, perhaps Random Over sampling, or ADASYN.  To see if I could boost the f1 scores for the Churn predictor."
   ]
  }
 ],
 "metadata": {
  "kernelspec": {
   "display_name": "analytics",
   "language": "python",
   "name": "python3"
  },
  "language_info": {
   "codemirror_mode": {
    "name": "ipython",
    "version": 3
   },
   "file_extension": ".py",
   "mimetype": "text/x-python",
   "name": "python",
   "nbconvert_exporter": "python",
   "pygments_lexer": "ipython3",
   "version": "3.12.3"
  }
 },
 "nbformat": 4,
 "nbformat_minor": 2
}
